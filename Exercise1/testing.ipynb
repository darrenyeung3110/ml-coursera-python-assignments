{
 "cells": [
  {
   "cell_type": "code",
   "execution_count": 10,
   "id": "21813fe9",
   "metadata": {
    "scrolled": true
   },
   "outputs": [],
   "source": [
    "import numpy as np "
   ]
  },
  {
   "cell_type": "code",
   "execution_count": null,
   "id": "90341afe",
   "metadata": {},
   "outputs": [],
   "source": []
  },
  {
   "cell_type": "code",
   "execution_count": 11,
   "id": "7378fb66",
   "metadata": {},
   "outputs": [
    {
     "name": "stdout",
     "output_type": "stream",
     "text": [
      "[[[0.30484112 0.28931471 0.85853299]\n",
      "  [0.31220337 0.6401088  0.89421288]\n",
      "  [0.38537903 0.57484577 1.06502338]]\n",
      "\n",
      " [[0.79553404 0.75879405 0.80446442]\n",
      "  [0.46480838 0.4261236  0.42275691]\n",
      "  [0.48788489 0.42568987 0.44553366]]] (2, 3, 3)\n"
     ]
    }
   ],
   "source": [
    "a = np.random.rand(2,3,3)\n",
    "b = np.random.rand(2,3,3)\n",
    "c = (a@b)\n",
    "d = np.dot(a,b)\n",
    "print(c,c.shape)"
   ]
  },
  {
   "cell_type": "code",
   "execution_count": 12,
   "id": "e6227d0f",
   "metadata": {},
   "outputs": [
    {
     "name": "stdout",
     "output_type": "stream",
     "text": [
      "[[[[0.30484112 0.28931471 0.85853299]\n",
      "   [0.60591609 0.8181888  0.57885303]]\n",
      "\n",
      "  [[0.31220337 0.6401088  0.89421288]\n",
      "   [0.96336983 0.89445983 0.98352331]]\n",
      "\n",
      "  [[0.38537903 0.57484577 1.06502338]\n",
      "   [0.87021903 0.92992737 0.83972899]]]\n",
      "\n",
      "\n",
      " [[[0.27431364 0.52745512 0.77964035]\n",
      "   [0.79553404 0.75879405 0.80446442]]\n",
      "\n",
      "  [[0.2396508  0.40093499 0.63041414]\n",
      "   [0.46480838 0.4261236  0.42275691]]\n",
      "\n",
      "  [[0.24510856 0.4330818  0.64282065]\n",
      "   [0.48788489 0.42568987 0.44553366]]]] (2, 3, 2, 3)\n"
     ]
    }
   ],
   "source": [
    "print(d,d.shape)"
   ]
  },
  {
   "cell_type": "code",
   "execution_count": null,
   "id": "22d4d4c5",
   "metadata": {},
   "outputs": [],
   "source": []
  }
 ],
 "metadata": {
  "kernelspec": {
   "display_name": "Python 3 (ipykernel)",
   "language": "python",
   "name": "python3"
  },
  "language_info": {
   "codemirror_mode": {
    "name": "ipython",
    "version": 3
   },
   "file_extension": ".py",
   "mimetype": "text/x-python",
   "name": "python",
   "nbconvert_exporter": "python",
   "pygments_lexer": "ipython3",
   "version": "3.8.0"
  }
 },
 "nbformat": 4,
 "nbformat_minor": 5
}
